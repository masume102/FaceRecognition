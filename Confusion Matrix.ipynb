import numpy as np
import pandas as pd
import matplotlib.pyplot as plt
from sklearn.metrics import confusion_matrix
from sklearn.model_selection import train_test_split
from tensorflow.keras.models import load_model
from tensorflow.keras.utils import to_categorical
import json
import os
import cv2
from tqdm import tqdm

# ---------------- تنظیمات ----------------
MODEL_PATH = "best_emotion_model.keras"
CLASS_INDICES_PATH = "class_indices.json"
CSV_PATH = "fer2013.csv"
IMG_SIZE = 224
NUM_CLASSES = 7
TEST_SIZE = 0.3
USE_ALIGNMENT = False

# ---------------- بررسی فایل‌ها ----------------
print("Current directory:", os.getcwd())
print("Files in directory:", os.listdir())
for path in [MODEL_PATH, CLASS_INDICES_PATH, CSV_PATH]:
    if not os.path.exists(path):
        raise FileNotFoundError(f"File {path} not found!")

# ---------------- بارگذاری مدل و کلاس‌ها ----------------
try:
    model = load_model(MODEL_PATH)
except Exception as e:
    print("Error loading model:", e)
    exit()

try:
    with open(CLASS_INDICES_PATH, 'r') as f:
        class_indices = json.load(f)
    class_names = list(class_indices.values())
    print("Class names:", class_names)
except Exception as e:
    print("Error loading class indices:", e)
    exit()

# ---------------- بارگذاری داده‌ها ----------------
try:
    data = pd.read_csv(CSV_PATH)
    pixels = data['pixels'].tolist()
    emotions = data['emotion'].tolist()
except Exception as e:
    print("Error loading CSV:", e)
    exit()

images = np.array([np.array(pix.split(), dtype='float32') for pix in pixels])
images = images.reshape(-1, 48, 48).astype('uint8')
labels = np.array(emotions)
print("Shape of images:", images.shape)
print("Shape of labels:", labels.shape)
print("توزیع کلاس‌ها:", dict(zip(*np.unique(labels, return_counts=True))))

# ---------------- پردازش تصاویر ----------------
print("Processing and preparing images ...")
processed_images = []
for img in tqdm(images):
    img_processed = cv2.resize(cv2.cvtColor(img, cv2.COLOR_GRAY2RGB), (IMG_SIZE, IMG_SIZE))
    processed_images.append(img_processed)

processed_images = np.array(processed_images, dtype='float32') / 255.0
labels_cat = to_categorical(labels, NUM_CLASSES)
print("Shape of processed_images:", processed_images.shape)

# ---------------- تقسیم داده‌ها ----------------
try:
    X_train, X_val, y_train, y_val = train_test_split(
        processed_images, labels_cat, test_size=TEST_SIZE, random_state=42, stratify=labels)
    print("Shape of X_val:", X_val.shape)
    print("Shape of y_val:", y_val.shape)
    print("توزیع کلاس‌ها در y_val:", dict(zip(*np.unique(np.argmax(y_val, axis=1), return_counts=True))))
except Exception as e:
    print("Error in train_test_split:", e)
    exit()

# ---------------- پیش‌بینی ----------------
try:
    y_pred = model.predict(X_val, batch_size=32, verbose=1)
    y_pred_classes = np.argmax(y_pred, axis=1)
    y_true_classes = np.argmax(y_val, axis=1)
    print("Shape of y_pred:", y_pred.shape)
    print("پیش‌بینی‌ها (y_pred_classes):", dict(zip(*np.unique(y_pred_classes, return_counts=True))))
    print("برچسب‌های واقعی (y_true_classes):", dict(zip(*np.unique(y_true_classes, return_counts=True))))
except Exception as e:
    print("Error in prediction:", e)
    exit()

# ---------------- ماتریس درهم‌ریختگی ----------------
cm = confusion_matrix(y_true_classes, y_pred_classes, labels=range(NUM_CLASSES))
print("ماتریس درهم‌ریختگی:")
print(cm)
diagonal_values = cm.diagonal()
print("تعداد پیش‌بینی‌های درست برای هر کلاس:", diagonal_values)

# ---------------- رسم نمودار میله‌ای ----------------
plt.figure(figsize=(10, 6))
plt.bar(class_names, diagonal_values, color=[
    'red', 'blue', 'yellow', 'green', 'purple', 'orange', 'gray'
])
plt.xlabel("کلاس‌های احساسات")
plt.ylabel("تعداد پیش‌بینی‌های درست")
plt.title("تعداد پیش‌بینی‌های درست برای هر احساس")
plt.xticks(rotation=45)
plt.tight_layout()
plt.show()

# ---------------- رسم ماتریس درهم‌ریختگی ----------------
plt.figure(figsize=(10, 8))
plt.imshow(cm, cmap='Blues')
plt.colorbar(label="تعداد")
plt.xticks(range(NUM_CLASSES), class_names, rotation=45)
plt.yticks(range(NUM_CLASSES), class_names)
plt.xlabel("پیش‌بینی‌شده")
plt.ylabel("واقعی")
plt.title("ماتریس درهم‌ریختگی (برای 7 احساس)")
for i in range(NUM_CLASSES):
    for j in range(NUM_CLASSES):
        plt.text(j, i, cm[i, j], ha='center', va='center', color='black')
plt.tight_layout()
plt.savefig("confusion_matrix.png")
plt.show()

print("✅ ماتریس درهم‌ریختگی ذخیره شد: confusion_matrix.png")
